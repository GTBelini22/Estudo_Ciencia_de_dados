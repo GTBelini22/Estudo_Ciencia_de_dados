{
  "nbformat": 4,
  "nbformat_minor": 0,
  "metadata": {
    "colab": {
      "provenance": []
    },
    "kernelspec": {
      "name": "python3",
      "display_name": "Python 3"
    },
    "language_info": {
      "name": "python"
    }
  },
  "cells": [
    {
      "cell_type": "code",
      "source": [
        "!pip install pyspark"
      ],
      "metadata": {
        "colab": {
          "base_uri": "https://localhost:8080/"
        },
        "id": "7Zi0XtjYDnwe",
        "outputId": "65468205-2518-4606-8e47-d51604d28544"
      },
      "execution_count": 15,
      "outputs": [
        {
          "output_type": "stream",
          "name": "stdout",
          "text": [
            "Requirement already satisfied: pyspark in /usr/local/lib/python3.10/dist-packages (3.5.1)\n",
            "Requirement already satisfied: py4j==0.10.9.7 in /usr/local/lib/python3.10/dist-packages (from pyspark) (0.10.9.7)\n"
          ]
        }
      ]
    },
    {
      "cell_type": "code",
      "source": [
        "!wget -qnc https://bin.equinox.io/c/4VmDzA7iaHb/ngrok-stable-linux-amd64.zip\n",
        "!unzip -n -q ngrok-stable-linux-amd64.zip"
      ],
      "metadata": {
        "id": "xPUgUCjtI-Y4"
      },
      "execution_count": 16,
      "outputs": []
    },
    {
      "cell_type": "code",
      "source": [
        "from pyspark.sql import SparkSession\n",
        "\n",
        "spark = (\n",
        "    SparkSession.builder\n",
        "      .config('spark.ui.port', '4050')\n",
        "      .appName(\"SparkUI Introdução\")\n",
        "      .getOrCreate()\n",
        ")"
      ],
      "metadata": {
        "id": "kajl0oD8EHAw"
      },
      "execution_count": 17,
      "outputs": []
    },
    {
      "cell_type": "code",
      "source": [
        "!./ngrok authtoken 2cxuq4PjVqz1SCLdCHLetk4KSO3_7YCGS1oZBxK5Hiy83mCh3\n",
        "get_ipython().system_raw('./ngrok http 4050 &')\n",
        "!sleep 10\n",
        "!curl -s http://localhost:4040/api/tunnels | grep -Po 'public_url\":\"(?=https)\\K[^\"]*'"
      ],
      "metadata": {
        "colab": {
          "base_uri": "https://localhost:8080/"
        },
        "id": "TFRKgV79ENi7",
        "outputId": "0438ff6d-e621-47e6-b422-378a2db27c1c"
      },
      "execution_count": 35,
      "outputs": [
        {
          "output_type": "stream",
          "name": "stdout",
          "text": [
            "Authtoken saved to configuration file: /root/.ngrok2/ngrok.yml\n"
          ]
        }
      ]
    },
    {
      "cell_type": "code",
      "source": [
        "from datetime import timedelta\n",
        "from pyspark.sql.types import StructField, StructType, StringType, IntegerType, TimestampType, DoubleType\n",
        "\n",
        "\n",
        "schema_remetente_destinatario = StructType([\n",
        "    StructField('nome', StringType()),\n",
        "    StructField('banco', StringType()),\n",
        "    StructField('tipo', StringType()),\n",
        "])\n",
        "\n",
        "\n",
        "eschema_pix = StructType([\n",
        "    StructField('chave_pix', StringType()),\n",
        "    StructField('fraude', IntegerType()),\n",
        "    StructField('id_transacao', IntegerType()),\n",
        "    StructField('remetente', schema_remetente_destinatario),\n",
        "    StructField('destinatario', schema_remetente_destinatario),\n",
        "    StructField('transaction_date', TimestampType()),\n",
        "    StructField('valor', DoubleType())\n",
        "])\n",
        "\n",
        "\n",
        "\n",
        "caminho = '/content/pix_transactions.json'\n",
        "\n",
        "df = spark.read.json(\n",
        "    caminho,\n",
        "    schema= eschema_pix,\n",
        "    timestampFormat = 'yyyy-MM-dd'\n",
        "    )"
      ],
      "metadata": {
        "id": "xGtT-uqlbB-n"
      },
      "execution_count": 36,
      "outputs": []
    },
    {
      "cell_type": "code",
      "source": [
        "df.printSchema()"
      ],
      "metadata": {
        "colab": {
          "base_uri": "https://localhost:8080/"
        },
        "id": "I9btBNoDbXcW",
        "outputId": "e52f149d-856a-447e-d51b-8337e12d7169"
      },
      "execution_count": 37,
      "outputs": [
        {
          "output_type": "stream",
          "name": "stdout",
          "text": [
            "root\n",
            " |-- chave_pix: string (nullable = true)\n",
            " |-- fraude: integer (nullable = true)\n",
            " |-- id_transacao: integer (nullable = true)\n",
            " |-- remetente: struct (nullable = true)\n",
            " |    |-- nome: string (nullable = true)\n",
            " |    |-- banco: string (nullable = true)\n",
            " |    |-- tipo: string (nullable = true)\n",
            " |-- destinatario: struct (nullable = true)\n",
            " |    |-- nome: string (nullable = true)\n",
            " |    |-- banco: string (nullable = true)\n",
            " |    |-- tipo: string (nullable = true)\n",
            " |-- transaction_date: timestamp (nullable = true)\n",
            " |-- valor: double (nullable = true)\n",
            "\n"
          ]
        }
      ]
    },
    {
      "cell_type": "code",
      "source": [
        "df.show()"
      ],
      "metadata": {
        "colab": {
          "base_uri": "https://localhost:8080/"
        },
        "id": "m92htEpCbZkB",
        "outputId": "2f85f9cf-9faf-4ebf-acdf-225b049041a7"
      },
      "execution_count": 38,
      "outputs": [
        {
          "output_type": "stream",
          "name": "stdout",
          "text": [
            "+---------+------+------------+--------------------+--------------------+-------------------+--------+\n",
            "|chave_pix|fraude|id_transacao|           remetente|        destinatario|   transaction_date|   valor|\n",
            "+---------+------+------------+--------------------+--------------------+-------------------+--------+\n",
            "|      cpf|     0|        1000|{Jonathan Gonsalv...|{Gabriel Cunha, I...|2022-03-19 00:00:00|    7.05|\n",
            "|aleatoria|     0|        1001|{Jonathan Gonsalv...|{Diego Souza, XP,...|2021-01-26 00:00:00|   37.28|\n",
            "|aleatoria|     0|        1002|{Jonathan Gonsalv...|{Nicole Nunes, BT...|2022-05-31 00:00:00|  282.73|\n",
            "|aleatoria|     0|        1003|{Jonathan Gonsalv...|{Maria Fernanda C...|2022-07-04 00:00:00| 8447.92|\n",
            "|aleatoria|     0|        1004|{Jonathan Gonsalv...|{Isabel Silva, C6...|2021-09-11 00:00:00|   58.51|\n",
            "|  celular|     0|        1005|{Jonathan Gonsalv...|{Anthony Carvalho...|2022-02-11 00:00:00| 6655.12|\n",
            "|      cpf|     0|        1006|{Jonathan Gonsalv...|{Eloah Monteiro, ...|2022-05-10 00:00:00| 9912.25|\n",
            "|aleatoria|     0|        1007|{Jonathan Gonsalv...|{Sophie Rocha, BT...|2022-08-28 00:00:00| 8212.91|\n",
            "|      cpf|     0|        1008|{Jonathan Gonsalv...|{Pietro Ribeiro, ...|2022-03-23 00:00:00|   91.71|\n",
            "|      cpf|     0|        1009|{Jonathan Gonsalv...|{Eloah Teixeira, ...|2021-09-18 00:00:00|   44.29|\n",
            "|    email|     0|        1010|{Jonathan Gonsalv...|{Emanuella Sales,...|2022-11-10 00:00:00|     8.2|\n",
            "|    email|     0|        1011|{Jonathan Gonsalv...|{Valentina Campos...|2021-07-15 00:00:00|    1.69|\n",
            "|    email|     0|        1012|{Jonathan Gonsalv...|{Stella Araujo, X...|2021-11-14 00:00:00|  442.76|\n",
            "|aleatoria|     0|        1013|{Jonathan Gonsalv...|{Benicio Costela,...|2022-11-15 00:00:00|    5.02|\n",
            "|      cpf|     1|        1014|{Jonathan Gonsalv...|{Joao Fernandes, ...|2021-03-13 00:00:00|79576.33|\n",
            "|    email|     0|        1015|{Jonathan Gonsalv...|{Gabriela da Roch...|2022-08-05 00:00:00|   96.61|\n",
            "|  celular|     0|        1016|{Jonathan Gonsalv...|{Larissa Aragao, ...|2022-09-01 00:00:00|   16.92|\n",
            "|  celular|     0|        1017|{Jonathan Gonsalv...|{Theo Dias, BTG, PJ}|2022-02-02 00:00:00| 7128.87|\n",
            "|aleatoria|     0|        1018|{Jonathan Gonsalv...|{Danilo Jesus, XP...|2021-08-11 00:00:00| 1658.63|\n",
            "|  celular|     0|        1019|{Jonathan Gonsalv...|{Bruno Correia, C...|2022-07-14 00:00:00| 3935.92|\n",
            "+---------+------+------------+--------------------+--------------------+-------------------+--------+\n",
            "only showing top 20 rows\n",
            "\n"
          ]
        }
      ]
    },
    {
      "cell_type": "markdown",
      "source": [
        "#Select"
      ],
      "metadata": {
        "id": "X08ujyDndLje"
      }
    },
    {
      "cell_type": "code",
      "source": [
        "df.select('remetente.nome').show()"
      ],
      "metadata": {
        "colab": {
          "base_uri": "https://localhost:8080/"
        },
        "id": "ChQ67y4CegQv",
        "outputId": "e2ae00d6-d7fc-496d-da5e-4568f0299223"
      },
      "execution_count": 39,
      "outputs": [
        {
          "output_type": "stream",
          "name": "stdout",
          "text": [
            "+------------------+\n",
            "|              nome|\n",
            "+------------------+\n",
            "|Jonathan Gonsalves|\n",
            "|Jonathan Gonsalves|\n",
            "|Jonathan Gonsalves|\n",
            "|Jonathan Gonsalves|\n",
            "|Jonathan Gonsalves|\n",
            "|Jonathan Gonsalves|\n",
            "|Jonathan Gonsalves|\n",
            "|Jonathan Gonsalves|\n",
            "|Jonathan Gonsalves|\n",
            "|Jonathan Gonsalves|\n",
            "|Jonathan Gonsalves|\n",
            "|Jonathan Gonsalves|\n",
            "|Jonathan Gonsalves|\n",
            "|Jonathan Gonsalves|\n",
            "|Jonathan Gonsalves|\n",
            "|Jonathan Gonsalves|\n",
            "|Jonathan Gonsalves|\n",
            "|Jonathan Gonsalves|\n",
            "|Jonathan Gonsalves|\n",
            "|Jonathan Gonsalves|\n",
            "+------------------+\n",
            "only showing top 20 rows\n",
            "\n"
          ]
        }
      ]
    },
    {
      "cell_type": "code",
      "source": [
        "df.select('destinatario.nome').show()"
      ],
      "metadata": {
        "colab": {
          "base_uri": "https://localhost:8080/"
        },
        "id": "tVo-7EjTemaY",
        "outputId": "b6ad8ea6-764f-47bc-cb6f-46a16300e086"
      },
      "execution_count": 41,
      "outputs": [
        {
          "output_type": "stream",
          "name": "stdout",
          "text": [
            "+--------------------+\n",
            "|                nome|\n",
            "+--------------------+\n",
            "|       Gabriel Cunha|\n",
            "|         Diego Souza|\n",
            "|        Nicole Nunes|\n",
            "|Maria Fernanda Ca...|\n",
            "|        Isabel Silva|\n",
            "|    Anthony Carvalho|\n",
            "|      Eloah Monteiro|\n",
            "|        Sophie Rocha|\n",
            "|      Pietro Ribeiro|\n",
            "|      Eloah Teixeira|\n",
            "|     Emanuella Sales|\n",
            "|    Valentina Campos|\n",
            "|       Stella Araujo|\n",
            "|     Benicio Costela|\n",
            "|      Joao Fernandes|\n",
            "|   Gabriela da Rocha|\n",
            "|      Larissa Aragao|\n",
            "|           Theo Dias|\n",
            "|        Danilo Jesus|\n",
            "|       Bruno Correia|\n",
            "+--------------------+\n",
            "only showing top 20 rows\n",
            "\n"
          ]
        }
      ]
    }
  ]
}