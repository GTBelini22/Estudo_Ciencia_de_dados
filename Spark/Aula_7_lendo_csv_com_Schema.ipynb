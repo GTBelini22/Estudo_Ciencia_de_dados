{
  "nbformat": 4,
  "nbformat_minor": 0,
  "metadata": {
    "colab": {
      "provenance": []
    },
    "kernelspec": {
      "name": "python3",
      "display_name": "Python 3"
    },
    "language_info": {
      "name": "python"
    }
  },
  "cells": [
    {
      "cell_type": "code",
      "execution_count": 1,
      "metadata": {
        "colab": {
          "base_uri": "https://localhost:8080/"
        },
        "id": "btlQWuaBODs8",
        "outputId": "9f5af19c-7853-4a59-8bda-5ec908181e73"
      },
      "outputs": [
        {
          "output_type": "stream",
          "name": "stdout",
          "text": [
            "Collecting pyspark\n",
            "  Downloading pyspark-3.5.1.tar.gz (317.0 MB)\n",
            "\u001b[2K     \u001b[90m━━━━━━━━━━━━━━━━━━━━━━━━━━━━━━━━━━━━━━━━\u001b[0m \u001b[32m317.0/317.0 MB\u001b[0m \u001b[31m1.8 MB/s\u001b[0m eta \u001b[36m0:00:00\u001b[0m\n",
            "\u001b[?25h  Preparing metadata (setup.py) ... \u001b[?25l\u001b[?25hdone\n",
            "Requirement already satisfied: py4j==0.10.9.7 in /usr/local/lib/python3.10/dist-packages (from pyspark) (0.10.9.7)\n",
            "Building wheels for collected packages: pyspark\n",
            "  Building wheel for pyspark (setup.py) ... \u001b[?25l\u001b[?25hdone\n",
            "  Created wheel for pyspark: filename=pyspark-3.5.1-py2.py3-none-any.whl size=317488493 sha256=974ca33c4ed944c75ae5c20a4912ce5b9a286ce16ea071a608553a1e8f87c77e\n",
            "  Stored in directory: /root/.cache/pip/wheels/80/1d/60/2c256ed38dddce2fdd93be545214a63e02fbd8d74fb0b7f3a6\n",
            "Successfully built pyspark\n",
            "Installing collected packages: pyspark\n",
            "Successfully installed pyspark-3.5.1\n"
          ]
        }
      ],
      "source": [
        "!pip install pyspark"
      ]
    },
    {
      "cell_type": "code",
      "source": [
        "from pyspark.sql  import  SparkSession"
      ],
      "metadata": {
        "id": "nv0wlVBHOMMT"
      },
      "execution_count": 2,
      "outputs": []
    },
    {
      "cell_type": "code",
      "source": [
        "spark = SparkSession.builder.appName('Lendo CSV').getOrCreate()"
      ],
      "metadata": {
        "id": "1SrcKcgvOOlb"
      },
      "execution_count": 3,
      "outputs": []
    },
    {
      "cell_type": "code",
      "source": [
        "df = spark.read.csv('/content/drive/MyDrive/Colab Notebooks/Big data/Spark/Aula 6/base_de_dados.csv')\n",
        "\n",
        "df = spark.read.csv(\n",
        "    '/content/drive/MyDrive/Colab Notebooks/Big data/Spark/Aula 6/base_de_dados.csv',\n",
        "    header=True,\n",
        "    sep =';'\n",
        "                    )"
      ],
      "metadata": {
        "id": "QcD7HQTHOWhZ"
      },
      "execution_count": 4,
      "outputs": []
    },
    {
      "cell_type": "code",
      "source": [
        "# Todas as colunas\n",
        "df.schema.fieldNames()"
      ],
      "metadata": {
        "colab": {
          "base_uri": "https://localhost:8080/"
        },
        "id": "C_n29AGxOu5Y",
        "outputId": "3247eac9-6aac-4783-fcf7-c0a101bdd72a"
      },
      "execution_count": 5,
      "outputs": [
        {
          "output_type": "execute_result",
          "data": {
            "text/plain": [
              "['id',\n",
              " 'valor',\n",
              " 'parte_debitada_nome',\n",
              " 'parte_debitada_conta',\n",
              " 'parte_debitada_banco',\n",
              " 'parte_creditada_nome',\n",
              " 'parte_creditada_conta',\n",
              " 'parte_creditada_banco',\n",
              " 'chave_pix_tipo',\n",
              " 'chave_pix_valor',\n",
              " 'data_transacao']"
            ]
          },
          "metadata": {},
          "execution_count": 5
        }
      ]
    },
    {
      "cell_type": "code",
      "source": [
        "df.show()"
      ],
      "metadata": {
        "colab": {
          "base_uri": "https://localhost:8080/"
        },
        "id": "dUu46eb3Oi0y",
        "outputId": "2e01b11a-567d-4f7a-8651-f13daea1e7f6"
      },
      "execution_count": 6,
      "outputs": [
        {
          "output_type": "stream",
          "name": "stdout",
          "text": [
            "+---+--------+--------------------+--------------------+--------------------+--------------------+---------------------+---------------------+--------------+---------------+----------------+\n",
            "| id|   valor| parte_debitada_nome|parte_debitada_conta|parte_debitada_banco|parte_creditada_nome|parte_creditada_conta|parte_creditada_banco|chave_pix_tipo|chave_pix_valor|  data_transacao|\n",
            "+---+--------+--------------------+--------------------+--------------------+--------------------+---------------------+---------------------+--------------+---------------+----------------+\n",
            "|  1|    9.93|Dra. Ana Carolina...|            79470453|              Nubank|       Maysa da Cruz|             67162333|                 Itau|           cpf|     8439752610|18/02/2022 13:28|\n",
            "|  2|   15.38|        Ana Caldeira|            19689668|                Itau|        Evelyn Sales|             60005091|             Bradesco|           cpf|    27145380617|08/04/2022 01:47|\n",
            "|  3|   57.58|    Arthur Goncalves|            18856899|            Bradesco|          Maria Melo|             13496303|                  BTG|           cpf|    16452937006|14/07/2022 03:18|\n",
            "|  4|53705.13|  Ana Julia Caldeira|            22834741|                Itau|   Ana Livia Almeida|             44695116|               Nubank|           cpf|    26590384142|15/01/2022 18:06|\n",
            "|  5|25299.69|  Srta. Nicole Pinto|             3715882|              Nubank|Srta. Ana Laura d...|             21409465|               Nubank|           cpf|    73486105280|13/05/2022 11:04|\n",
            "|  6| 7165.06|   Gabriela Ferreira|             2243037|              Nubank|       Larissa Souza|             10689552|                 Itau|           cpf|    96845371237|11/09/2022 13:38|\n",
            "|  7|    6.16|    Heloisa da Rocha|            59778949|                 BTG|Dra. Vitoria Silv...|             56583792|               Nubank|           cpf|    89064175357|10/12/2021 12:37|\n",
            "|  8|  136.36|Srta. Isadora Cor...|            77102442|              Nubank|  Francisco da Costa|             96088386|               Nubank|           cpf|    85907632429|30/12/2021 23:18|\n",
            "|  9|  574.39|   Dr. Lucas da Cruz|            38501170|                 BTG|       Calebe da Luz|             19365554|             Bradesco|           cpf|    64720189520|21/06/2021 07:20|\n",
            "| 10|   42.88|     Mirella Martins|            29535709|            Bradesco|        Danilo Lopes|             60064650|                 Itau|           cpf|    87014935232|21/09/2022 17:19|\n",
            "| 11|33629.97|Sr. Vitor Gabriel...|            67010663|                 BTG|Sra. Lavinia Cald...|             48145941|               Nubank|           cpf|    63542098124|12/09/2022 00:29|\n",
            "| 12| 4374.56|      Nathan Peixoto|            22975623|              Nubank|        Diogo da Luz|             30302218|             Bradesco|           cpf|    72908154323|07/08/2022 17:01|\n",
            "| 13|  507.18|       Miguel Araujo|            75113657|              Nubank|Marcos Vinicius G...|             67418115|                 Itau|           cpf|    84763129031|07/03/2021 12:34|\n",
            "| 14|67758.87|     Juliana Correia|             4495167|                Itau|    Davi Lucas Porto|             94395923|                  BTG|           cpf|    97804215649|24/03/2021 22:58|\n",
            "| 15|  815.53|     Ana Laura Souza|            79650252|                Itau|        Isabel Costa|             28762988|                  BTG|           cpf|    51824039689|21/02/2022 11:25|\n",
            "| 16|    2.73|           Levi Lima|            73815441|                 BTG|Dra. Maria Luiza ...|             96594203|             Bradesco|           cpf|    94516738066|20/07/2021 09:17|\n",
            "| 17|    0.54|        Otavio Cunha|            85583961|            Bradesco|       Elisa Moreira|             97003354|             Bradesco|           cpf|    15248769094|16/02/2022 10:16|\n",
            "| 18|49836.72|Ana Carolina Oliv...|            80200942|                Itau|    Stella Fernandes|             31579145|                  BTG|           cpf|    47609381250|18/07/2022 22:46|\n",
            "| 19|    9.68|        Levi Martins|            12349481|                Itau|Joao Guilherme Me...|             31102492|                  BTG|       celular|    11916824404|26/02/2022 15:05|\n",
            "| 20| 9837.22|          Noah Cunha|            84622162|            Bradesco|         Juan Mendes|             97805965|             Bradesco|       celular|    11944547225|22/06/2021 05:39|\n",
            "+---+--------+--------------------+--------------------+--------------------+--------------------+---------------------+---------------------+--------------+---------------+----------------+\n",
            "only showing top 20 rows\n",
            "\n"
          ]
        }
      ]
    },
    {
      "cell_type": "code",
      "source": [
        "from pyspark.sql.types import StructType, StructField, IntegerType, DoubleType, StringType, TimestampType"
      ],
      "metadata": {
        "id": "jik1uhXaO0wV"
      },
      "execution_count": 7,
      "outputs": []
    },
    {
      "cell_type": "code",
      "source": [
        "# Precisamos passar um objeto específico para essa função\n",
        "schema_pix = StructType([\n",
        "    StructField('id', IntegerType()),\n",
        "    StructField('valor', DoubleType())\n",
        "])\n",
        "\n",
        "\n",
        "df = spark.read.csv(\n",
        "    '/content/drive/MyDrive/Colab Notebooks/Big data/Spark/Aula 6/base_de_dados.csv',\n",
        "    header=True,\n",
        "    sep =';',\n",
        "    schema= schema_pix\n",
        "                    )"
      ],
      "metadata": {
        "id": "bdSh_fBMO98S"
      },
      "execution_count": 8,
      "outputs": []
    },
    {
      "cell_type": "code",
      "source": [
        "df.show()"
      ],
      "metadata": {
        "colab": {
          "base_uri": "https://localhost:8080/"
        },
        "id": "1EmVYZRuP6Xq",
        "outputId": "9473d316-ef44-4599-9772-b640097ecad8"
      },
      "execution_count": 9,
      "outputs": [
        {
          "output_type": "stream",
          "name": "stdout",
          "text": [
            "+---+--------+\n",
            "| id|   valor|\n",
            "+---+--------+\n",
            "|  1|    9.93|\n",
            "|  2|   15.38|\n",
            "|  3|   57.58|\n",
            "|  4|53705.13|\n",
            "|  5|25299.69|\n",
            "|  6| 7165.06|\n",
            "|  7|    6.16|\n",
            "|  8|  136.36|\n",
            "|  9|  574.39|\n",
            "| 10|   42.88|\n",
            "| 11|33629.97|\n",
            "| 12| 4374.56|\n",
            "| 13|  507.18|\n",
            "| 14|67758.87|\n",
            "| 15|  815.53|\n",
            "| 16|    2.73|\n",
            "| 17|    0.54|\n",
            "| 18|49836.72|\n",
            "| 19|    9.68|\n",
            "| 20| 9837.22|\n",
            "+---+--------+\n",
            "only showing top 20 rows\n",
            "\n"
          ]
        }
      ]
    },
    {
      "cell_type": "code",
      "source": [
        "df.printSchema()\n",
        "\n",
        "# Agora arrumamos o tipo das colunas"
      ],
      "metadata": {
        "colab": {
          "base_uri": "https://localhost:8080/"
        },
        "id": "Gv777X_XP8Bc",
        "outputId": "52a5f826-e8f4-4192-9de7-6018711b764b"
      },
      "execution_count": 10,
      "outputs": [
        {
          "output_type": "stream",
          "name": "stdout",
          "text": [
            "root\n",
            " |-- id: integer (nullable = true)\n",
            " |-- valor: double (nullable = true)\n",
            "\n"
          ]
        }
      ]
    },
    {
      "cell_type": "code",
      "source": [
        "schema_base_pix = StructType([\n",
        "    StructField('id', IntegerType()),\n",
        "    StructField('valor', DoubleType()),\n",
        "    StructField('parte_debitada_nome', StringType()),\n",
        "    StructField('parte_debitada_conta', StringType()),\n",
        "    StructField('parte_debitada_banco', StringType()),\n",
        "    StructField('parte_creditada_nome', StringType()),\n",
        "    StructField('parte_creditada_conta', StringType()),\n",
        "    StructField('parte_creditada_banco', StringType()),\n",
        "    StructField('chave_pix_tipo', StringType()),\n",
        "    StructField('chave_pix_valor', StringType()),\n",
        "    StructField('data_transacao', TimestampType())\n",
        "])\n",
        "\n",
        "\n",
        "\n",
        "df = spark.read.csv(\n",
        "  '/content/drive/MyDrive/Colab Notebooks/Big data/Spark/Aula 6/base_de_dados.csv',\n",
        "  header=True,\n",
        "  sep =';',\n",
        "  schema= schema_base_pix\n",
        "                  )"
      ],
      "metadata": {
        "id": "3mXNy7i5QNWi"
      },
      "execution_count": 11,
      "outputs": []
    },
    {
      "cell_type": "code",
      "source": [
        "df.printSchema()\n",
        "\n",
        "# Todas as colunas da base de pix estão corretas"
      ],
      "metadata": {
        "colab": {
          "base_uri": "https://localhost:8080/"
        },
        "id": "sHtSbneeQi1q",
        "outputId": "83ed093c-7654-4608-cf7f-e91433a126ea"
      },
      "execution_count": 12,
      "outputs": [
        {
          "output_type": "stream",
          "name": "stdout",
          "text": [
            "root\n",
            " |-- id: integer (nullable = true)\n",
            " |-- valor: double (nullable = true)\n",
            " |-- parte_debitada_nome: string (nullable = true)\n",
            " |-- parte_debitada_conta: string (nullable = true)\n",
            " |-- parte_debitada_banco: string (nullable = true)\n",
            " |-- parte_creditada_nome: string (nullable = true)\n",
            " |-- parte_creditada_conta: string (nullable = true)\n",
            " |-- parte_creditada_banco: string (nullable = true)\n",
            " |-- chave_pix_tipo: string (nullable = true)\n",
            " |-- chave_pix_valor: string (nullable = true)\n",
            " |-- data_transacao: timestamp (nullable = true)\n",
            "\n"
          ]
        }
      ]
    },
    {
      "cell_type": "code",
      "source": [
        "df.show()\n",
        "\n",
        "# Temos que a coluna de data ficou nula, o que ocorreu, foi que o timestamp precisa ser preciso\n",
        "# Necessário passar o timestamp exato"
      ],
      "metadata": {
        "colab": {
          "base_uri": "https://localhost:8080/"
        },
        "id": "-T_3Lk8rQoHS",
        "outputId": "6dde7e87-b1b3-4832-c9b4-5f969d6e4565"
      },
      "execution_count": 13,
      "outputs": [
        {
          "output_type": "stream",
          "name": "stdout",
          "text": [
            "+---+--------+--------------------+--------------------+--------------------+--------------------+---------------------+---------------------+--------------+---------------+--------------+\n",
            "| id|   valor| parte_debitada_nome|parte_debitada_conta|parte_debitada_banco|parte_creditada_nome|parte_creditada_conta|parte_creditada_banco|chave_pix_tipo|chave_pix_valor|data_transacao|\n",
            "+---+--------+--------------------+--------------------+--------------------+--------------------+---------------------+---------------------+--------------+---------------+--------------+\n",
            "|  1|    9.93|Dra. Ana Carolina...|            79470453|              Nubank|       Maysa da Cruz|             67162333|                 Itau|           cpf|     8439752610|          NULL|\n",
            "|  2|   15.38|        Ana Caldeira|            19689668|                Itau|        Evelyn Sales|             60005091|             Bradesco|           cpf|    27145380617|          NULL|\n",
            "|  3|   57.58|    Arthur Goncalves|            18856899|            Bradesco|          Maria Melo|             13496303|                  BTG|           cpf|    16452937006|          NULL|\n",
            "|  4|53705.13|  Ana Julia Caldeira|            22834741|                Itau|   Ana Livia Almeida|             44695116|               Nubank|           cpf|    26590384142|          NULL|\n",
            "|  5|25299.69|  Srta. Nicole Pinto|             3715882|              Nubank|Srta. Ana Laura d...|             21409465|               Nubank|           cpf|    73486105280|          NULL|\n",
            "|  6| 7165.06|   Gabriela Ferreira|             2243037|              Nubank|       Larissa Souza|             10689552|                 Itau|           cpf|    96845371237|          NULL|\n",
            "|  7|    6.16|    Heloisa da Rocha|            59778949|                 BTG|Dra. Vitoria Silv...|             56583792|               Nubank|           cpf|    89064175357|          NULL|\n",
            "|  8|  136.36|Srta. Isadora Cor...|            77102442|              Nubank|  Francisco da Costa|             96088386|               Nubank|           cpf|    85907632429|          NULL|\n",
            "|  9|  574.39|   Dr. Lucas da Cruz|            38501170|                 BTG|       Calebe da Luz|             19365554|             Bradesco|           cpf|    64720189520|          NULL|\n",
            "| 10|   42.88|     Mirella Martins|            29535709|            Bradesco|        Danilo Lopes|             60064650|                 Itau|           cpf|    87014935232|          NULL|\n",
            "| 11|33629.97|Sr. Vitor Gabriel...|            67010663|                 BTG|Sra. Lavinia Cald...|             48145941|               Nubank|           cpf|    63542098124|          NULL|\n",
            "| 12| 4374.56|      Nathan Peixoto|            22975623|              Nubank|        Diogo da Luz|             30302218|             Bradesco|           cpf|    72908154323|          NULL|\n",
            "| 13|  507.18|       Miguel Araujo|            75113657|              Nubank|Marcos Vinicius G...|             67418115|                 Itau|           cpf|    84763129031|          NULL|\n",
            "| 14|67758.87|     Juliana Correia|             4495167|                Itau|    Davi Lucas Porto|             94395923|                  BTG|           cpf|    97804215649|          NULL|\n",
            "| 15|  815.53|     Ana Laura Souza|            79650252|                Itau|        Isabel Costa|             28762988|                  BTG|           cpf|    51824039689|          NULL|\n",
            "| 16|    2.73|           Levi Lima|            73815441|                 BTG|Dra. Maria Luiza ...|             96594203|             Bradesco|           cpf|    94516738066|          NULL|\n",
            "| 17|    0.54|        Otavio Cunha|            85583961|            Bradesco|       Elisa Moreira|             97003354|             Bradesco|           cpf|    15248769094|          NULL|\n",
            "| 18|49836.72|Ana Carolina Oliv...|            80200942|                Itau|    Stella Fernandes|             31579145|                  BTG|           cpf|    47609381250|          NULL|\n",
            "| 19|    9.68|        Levi Martins|            12349481|                Itau|Joao Guilherme Me...|             31102492|                  BTG|       celular|    11916824404|          NULL|\n",
            "| 20| 9837.22|          Noah Cunha|            84622162|            Bradesco|         Juan Mendes|             97805965|             Bradesco|       celular|    11944547225|          NULL|\n",
            "+---+--------+--------------------+--------------------+--------------------+--------------------+---------------------+---------------------+--------------+---------------+--------------+\n",
            "only showing top 20 rows\n",
            "\n"
          ]
        }
      ]
    },
    {
      "cell_type": "code",
      "source": [
        "df = spark.read.csv(\n",
        "  '/content/drive/MyDrive/Colab Notebooks/Big data/Spark/Aula 6/base_de_dados.csv',\n",
        "  header=True,\n",
        "  sep =';',\n",
        "  schema= schema_base_pix,\n",
        "  timestampFormat = 'dd/MM/yyyy HH:mm'\n",
        "                  )"
      ],
      "metadata": {
        "id": "Fd6c5pNuRDu3"
      },
      "execution_count": 14,
      "outputs": []
    },
    {
      "cell_type": "code",
      "source": [
        "df.show()"
      ],
      "metadata": {
        "id": "k7b-_SroRQlY",
        "outputId": "405897e9-7e7b-42ca-92a2-c608caf1df72",
        "colab": {
          "base_uri": "https://localhost:8080/"
        }
      },
      "execution_count": 15,
      "outputs": [
        {
          "output_type": "stream",
          "name": "stdout",
          "text": [
            "+---+--------+--------------------+--------------------+--------------------+--------------------+---------------------+---------------------+--------------+---------------+-------------------+\n",
            "| id|   valor| parte_debitada_nome|parte_debitada_conta|parte_debitada_banco|parte_creditada_nome|parte_creditada_conta|parte_creditada_banco|chave_pix_tipo|chave_pix_valor|     data_transacao|\n",
            "+---+--------+--------------------+--------------------+--------------------+--------------------+---------------------+---------------------+--------------+---------------+-------------------+\n",
            "|  1|    9.93|Dra. Ana Carolina...|            79470453|              Nubank|       Maysa da Cruz|             67162333|                 Itau|           cpf|     8439752610|2022-02-18 13:28:00|\n",
            "|  2|   15.38|        Ana Caldeira|            19689668|                Itau|        Evelyn Sales|             60005091|             Bradesco|           cpf|    27145380617|2022-04-08 01:47:00|\n",
            "|  3|   57.58|    Arthur Goncalves|            18856899|            Bradesco|          Maria Melo|             13496303|                  BTG|           cpf|    16452937006|2022-07-14 03:18:00|\n",
            "|  4|53705.13|  Ana Julia Caldeira|            22834741|                Itau|   Ana Livia Almeida|             44695116|               Nubank|           cpf|    26590384142|2022-01-15 18:06:00|\n",
            "|  5|25299.69|  Srta. Nicole Pinto|             3715882|              Nubank|Srta. Ana Laura d...|             21409465|               Nubank|           cpf|    73486105280|2022-05-13 11:04:00|\n",
            "|  6| 7165.06|   Gabriela Ferreira|             2243037|              Nubank|       Larissa Souza|             10689552|                 Itau|           cpf|    96845371237|2022-09-11 13:38:00|\n",
            "|  7|    6.16|    Heloisa da Rocha|            59778949|                 BTG|Dra. Vitoria Silv...|             56583792|               Nubank|           cpf|    89064175357|2021-12-10 12:37:00|\n",
            "|  8|  136.36|Srta. Isadora Cor...|            77102442|              Nubank|  Francisco da Costa|             96088386|               Nubank|           cpf|    85907632429|2021-12-30 23:18:00|\n",
            "|  9|  574.39|   Dr. Lucas da Cruz|            38501170|                 BTG|       Calebe da Luz|             19365554|             Bradesco|           cpf|    64720189520|2021-06-21 07:20:00|\n",
            "| 10|   42.88|     Mirella Martins|            29535709|            Bradesco|        Danilo Lopes|             60064650|                 Itau|           cpf|    87014935232|2022-09-21 17:19:00|\n",
            "| 11|33629.97|Sr. Vitor Gabriel...|            67010663|                 BTG|Sra. Lavinia Cald...|             48145941|               Nubank|           cpf|    63542098124|2022-09-12 00:29:00|\n",
            "| 12| 4374.56|      Nathan Peixoto|            22975623|              Nubank|        Diogo da Luz|             30302218|             Bradesco|           cpf|    72908154323|2022-08-07 17:01:00|\n",
            "| 13|  507.18|       Miguel Araujo|            75113657|              Nubank|Marcos Vinicius G...|             67418115|                 Itau|           cpf|    84763129031|2021-03-07 12:34:00|\n",
            "| 14|67758.87|     Juliana Correia|             4495167|                Itau|    Davi Lucas Porto|             94395923|                  BTG|           cpf|    97804215649|2021-03-24 22:58:00|\n",
            "| 15|  815.53|     Ana Laura Souza|            79650252|                Itau|        Isabel Costa|             28762988|                  BTG|           cpf|    51824039689|2022-02-21 11:25:00|\n",
            "| 16|    2.73|           Levi Lima|            73815441|                 BTG|Dra. Maria Luiza ...|             96594203|             Bradesco|           cpf|    94516738066|2021-07-20 09:17:00|\n",
            "| 17|    0.54|        Otavio Cunha|            85583961|            Bradesco|       Elisa Moreira|             97003354|             Bradesco|           cpf|    15248769094|2022-02-16 10:16:00|\n",
            "| 18|49836.72|Ana Carolina Oliv...|            80200942|                Itau|    Stella Fernandes|             31579145|                  BTG|           cpf|    47609381250|2022-07-18 22:46:00|\n",
            "| 19|    9.68|        Levi Martins|            12349481|                Itau|Joao Guilherme Me...|             31102492|                  BTG|       celular|    11916824404|2022-02-26 15:05:00|\n",
            "| 20| 9837.22|          Noah Cunha|            84622162|            Bradesco|         Juan Mendes|             97805965|             Bradesco|       celular|    11944547225|2021-06-22 05:39:00|\n",
            "+---+--------+--------------------+--------------------+--------------------+--------------------+---------------------+---------------------+--------------+---------------+-------------------+\n",
            "only showing top 20 rows\n",
            "\n"
          ]
        }
      ]
    },
    {
      "cell_type": "markdown",
      "source": [
        "# Ajustando sem o Schema"
      ],
      "metadata": {
        "id": "d_kyoezsGftl"
      }
    },
    {
      "cell_type": "code",
      "source": [
        "df = spark.read.csv(\n",
        "  '/content/drive/MyDrive/Colab Notebooks/Big data/Spark/Aula 6/base_de_dados.csv',\n",
        "  header=True,\n",
        "  sep =';',\n",
        "                  )"
      ],
      "metadata": {
        "id": "KsXdUEvrGpa3"
      },
      "execution_count": 16,
      "outputs": []
    },
    {
      "cell_type": "code",
      "source": [
        "df.printSchema()"
      ],
      "metadata": {
        "colab": {
          "base_uri": "https://localhost:8080/"
        },
        "id": "4781tEdHGtVZ",
        "outputId": "12bf20a9-72f4-49b2-db1c-d6fe2e24a144"
      },
      "execution_count": 17,
      "outputs": [
        {
          "output_type": "stream",
          "name": "stdout",
          "text": [
            "root\n",
            " |-- id: string (nullable = true)\n",
            " |-- valor: string (nullable = true)\n",
            " |-- parte_debitada_nome: string (nullable = true)\n",
            " |-- parte_debitada_conta: string (nullable = true)\n",
            " |-- parte_debitada_banco: string (nullable = true)\n",
            " |-- parte_creditada_nome: string (nullable = true)\n",
            " |-- parte_creditada_conta: string (nullable = true)\n",
            " |-- parte_creditada_banco: string (nullable = true)\n",
            " |-- chave_pix_tipo: string (nullable = true)\n",
            " |-- chave_pix_valor: string (nullable = true)\n",
            " |-- data_transacao: string (nullable = true)\n",
            "\n"
          ]
        }
      ]
    },
    {
      "cell_type": "code",
      "source": [
        "# temos uma opção que é para o Spark deduzir aquilo que está na coluna\n",
        "df = spark.read.csv(\n",
        "  '/content/drive/MyDrive/Colab Notebooks/Big data/Spark/Aula 6/base_de_dados.csv',\n",
        "  header=True,\n",
        "  sep =';',\n",
        "  inferSchema = True\n",
        "                  )"
      ],
      "metadata": {
        "id": "peiZ4wz4IJEe"
      },
      "execution_count": 18,
      "outputs": []
    },
    {
      "cell_type": "code",
      "source": [
        "df.printSchema()\n",
        "\n",
        "# Porem a data transação ele não identificou"
      ],
      "metadata": {
        "colab": {
          "base_uri": "https://localhost:8080/"
        },
        "id": "CKGr_ZY4IWSe",
        "outputId": "0365ec29-41ea-44e3-d254-d8ecf35ee882"
      },
      "execution_count": 19,
      "outputs": [
        {
          "output_type": "stream",
          "name": "stdout",
          "text": [
            "root\n",
            " |-- id: integer (nullable = true)\n",
            " |-- valor: double (nullable = true)\n",
            " |-- parte_debitada_nome: string (nullable = true)\n",
            " |-- parte_debitada_conta: integer (nullable = true)\n",
            " |-- parte_debitada_banco: string (nullable = true)\n",
            " |-- parte_creditada_nome: string (nullable = true)\n",
            " |-- parte_creditada_conta: integer (nullable = true)\n",
            " |-- parte_creditada_banco: string (nullable = true)\n",
            " |-- chave_pix_tipo: string (nullable = true)\n",
            " |-- chave_pix_valor: string (nullable = true)\n",
            " |-- data_transacao: string (nullable = true)\n",
            "\n"
          ]
        }
      ]
    },
    {
      "cell_type": "markdown",
      "source": [
        "## Manipulando os dados"
      ],
      "metadata": {
        "id": "xG_AWGtyIeqp"
      }
    },
    {
      "cell_type": "code",
      "source": [
        "df = spark.read.csv(\n",
        "  '/content/drive/MyDrive/Colab Notebooks/Big data/Spark/Aula 6/base_de_dados.csv',\n",
        "  header=True,\n",
        "  sep =';',\n",
        "                  )"
      ],
      "metadata": {
        "id": "Vq6R37kIIcRL"
      },
      "execution_count": 20,
      "outputs": []
    },
    {
      "cell_type": "code",
      "source": [
        "from pyspark.sql.functions import col, to_timestamp\n",
        "# Caso não exista a coluna será criada\n",
        "\n",
        "df_cast = df.withColumn('id', col('id').cast('int')\n",
        ").withColumn('valor', col('valor').cast('double')\n",
        ").withColumn('data_transacao', to_timestamp('data_transacao', 'dd/MM/yyyy HH:mm'))\n",
        "\n",
        "# O timestamp precisa ser preciso por conta que nesse caso o csv está em um padrão específico"
      ],
      "metadata": {
        "id": "Nmiry7CnIj_R"
      },
      "execution_count": 33,
      "outputs": []
    },
    {
      "cell_type": "code",
      "source": [
        "df_cast.printSchema()"
      ],
      "metadata": {
        "colab": {
          "base_uri": "https://localhost:8080/"
        },
        "id": "AZV33iQlI_fK",
        "outputId": "f6997732-59ca-4893-b02e-becfa1a45877"
      },
      "execution_count": 34,
      "outputs": [
        {
          "output_type": "stream",
          "name": "stdout",
          "text": [
            "root\n",
            " |-- id: integer (nullable = true)\n",
            " |-- valor: double (nullable = true)\n",
            " |-- parte_debitada_nome: string (nullable = true)\n",
            " |-- parte_debitada_conta: string (nullable = true)\n",
            " |-- parte_debitada_banco: string (nullable = true)\n",
            " |-- parte_creditada_nome: string (nullable = true)\n",
            " |-- parte_creditada_conta: string (nullable = true)\n",
            " |-- parte_creditada_banco: string (nullable = true)\n",
            " |-- chave_pix_tipo: string (nullable = true)\n",
            " |-- chave_pix_valor: string (nullable = true)\n",
            " |-- data_transacao: timestamp (nullable = true)\n",
            "\n"
          ]
        }
      ]
    },
    {
      "cell_type": "code",
      "source": [
        "df_cast.show()"
      ],
      "metadata": {
        "colab": {
          "base_uri": "https://localhost:8080/"
        },
        "id": "yG4AreWHKWFM",
        "outputId": "de827390-d5ab-49ba-92dd-a6bae80d68ed"
      },
      "execution_count": 35,
      "outputs": [
        {
          "output_type": "stream",
          "name": "stdout",
          "text": [
            "+---+--------+--------------------+--------------------+--------------------+--------------------+---------------------+---------------------+--------------+---------------+-------------------+\n",
            "| id|   valor| parte_debitada_nome|parte_debitada_conta|parte_debitada_banco|parte_creditada_nome|parte_creditada_conta|parte_creditada_banco|chave_pix_tipo|chave_pix_valor|     data_transacao|\n",
            "+---+--------+--------------------+--------------------+--------------------+--------------------+---------------------+---------------------+--------------+---------------+-------------------+\n",
            "|  1|    9.93|Dra. Ana Carolina...|            79470453|              Nubank|       Maysa da Cruz|             67162333|                 Itau|           cpf|     8439752610|2022-02-18 13:28:00|\n",
            "|  2|   15.38|        Ana Caldeira|            19689668|                Itau|        Evelyn Sales|             60005091|             Bradesco|           cpf|    27145380617|2022-04-08 01:47:00|\n",
            "|  3|   57.58|    Arthur Goncalves|            18856899|            Bradesco|          Maria Melo|             13496303|                  BTG|           cpf|    16452937006|2022-07-14 03:18:00|\n",
            "|  4|53705.13|  Ana Julia Caldeira|            22834741|                Itau|   Ana Livia Almeida|             44695116|               Nubank|           cpf|    26590384142|2022-01-15 18:06:00|\n",
            "|  5|25299.69|  Srta. Nicole Pinto|             3715882|              Nubank|Srta. Ana Laura d...|             21409465|               Nubank|           cpf|    73486105280|2022-05-13 11:04:00|\n",
            "|  6| 7165.06|   Gabriela Ferreira|             2243037|              Nubank|       Larissa Souza|             10689552|                 Itau|           cpf|    96845371237|2022-09-11 13:38:00|\n",
            "|  7|    6.16|    Heloisa da Rocha|            59778949|                 BTG|Dra. Vitoria Silv...|             56583792|               Nubank|           cpf|    89064175357|2021-12-10 12:37:00|\n",
            "|  8|  136.36|Srta. Isadora Cor...|            77102442|              Nubank|  Francisco da Costa|             96088386|               Nubank|           cpf|    85907632429|2021-12-30 23:18:00|\n",
            "|  9|  574.39|   Dr. Lucas da Cruz|            38501170|                 BTG|       Calebe da Luz|             19365554|             Bradesco|           cpf|    64720189520|2021-06-21 07:20:00|\n",
            "| 10|   42.88|     Mirella Martins|            29535709|            Bradesco|        Danilo Lopes|             60064650|                 Itau|           cpf|    87014935232|2022-09-21 17:19:00|\n",
            "| 11|33629.97|Sr. Vitor Gabriel...|            67010663|                 BTG|Sra. Lavinia Cald...|             48145941|               Nubank|           cpf|    63542098124|2022-09-12 00:29:00|\n",
            "| 12| 4374.56|      Nathan Peixoto|            22975623|              Nubank|        Diogo da Luz|             30302218|             Bradesco|           cpf|    72908154323|2022-08-07 17:01:00|\n",
            "| 13|  507.18|       Miguel Araujo|            75113657|              Nubank|Marcos Vinicius G...|             67418115|                 Itau|           cpf|    84763129031|2021-03-07 12:34:00|\n",
            "| 14|67758.87|     Juliana Correia|             4495167|                Itau|    Davi Lucas Porto|             94395923|                  BTG|           cpf|    97804215649|2021-03-24 22:58:00|\n",
            "| 15|  815.53|     Ana Laura Souza|            79650252|                Itau|        Isabel Costa|             28762988|                  BTG|           cpf|    51824039689|2022-02-21 11:25:00|\n",
            "| 16|    2.73|           Levi Lima|            73815441|                 BTG|Dra. Maria Luiza ...|             96594203|             Bradesco|           cpf|    94516738066|2021-07-20 09:17:00|\n",
            "| 17|    0.54|        Otavio Cunha|            85583961|            Bradesco|       Elisa Moreira|             97003354|             Bradesco|           cpf|    15248769094|2022-02-16 10:16:00|\n",
            "| 18|49836.72|Ana Carolina Oliv...|            80200942|                Itau|    Stella Fernandes|             31579145|                  BTG|           cpf|    47609381250|2022-07-18 22:46:00|\n",
            "| 19|    9.68|        Levi Martins|            12349481|                Itau|Joao Guilherme Me...|             31102492|                  BTG|       celular|    11916824404|2022-02-26 15:05:00|\n",
            "| 20| 9837.22|          Noah Cunha|            84622162|            Bradesco|         Juan Mendes|             97805965|             Bradesco|       celular|    11944547225|2021-06-22 05:39:00|\n",
            "+---+--------+--------------------+--------------------+--------------------+--------------------+---------------------+---------------------+--------------+---------------+-------------------+\n",
            "only showing top 20 rows\n",
            "\n"
          ]
        }
      ]
    },
    {
      "cell_type": "markdown",
      "source": [
        "## Manipulação parte II"
      ],
      "metadata": {
        "id": "UUws6jC6MI4Z"
      }
    },
    {
      "cell_type": "markdown",
      "source": [
        "### Select"
      ],
      "metadata": {
        "id": "bpPXcK-RMXfr"
      }
    },
    {
      "cell_type": "code",
      "source": [
        "# retornando colunas específicas\n",
        "df_cast.select('id', 'valor').show()"
      ],
      "metadata": {
        "colab": {
          "base_uri": "https://localhost:8080/"
        },
        "id": "wU_myMP0MOJW",
        "outputId": "44efdf31-0ac6-40b8-b497-d169886a3902"
      },
      "execution_count": 38,
      "outputs": [
        {
          "output_type": "stream",
          "name": "stdout",
          "text": [
            "+---+--------+\n",
            "| id|   valor|\n",
            "+---+--------+\n",
            "|  1|    9.93|\n",
            "|  2|   15.38|\n",
            "|  3|   57.58|\n",
            "|  4|53705.13|\n",
            "|  5|25299.69|\n",
            "|  6| 7165.06|\n",
            "|  7|    6.16|\n",
            "|  8|  136.36|\n",
            "|  9|  574.39|\n",
            "| 10|   42.88|\n",
            "| 11|33629.97|\n",
            "| 12| 4374.56|\n",
            "| 13|  507.18|\n",
            "| 14|67758.87|\n",
            "| 15|  815.53|\n",
            "| 16|    2.73|\n",
            "| 17|    0.54|\n",
            "| 18|49836.72|\n",
            "| 19|    9.68|\n",
            "| 20| 9837.22|\n",
            "+---+--------+\n",
            "only showing top 20 rows\n",
            "\n"
          ]
        }
      ]
    },
    {
      "cell_type": "markdown",
      "source": [
        "### Withcolumn"
      ],
      "metadata": {
        "id": "TKPKX5vNMoip"
      }
    },
    {
      "cell_type": "code",
      "source": [
        "# Adição de mais colunas\n",
        "from pyspark.sql.functions import round\n",
        "\n",
        "df_dolar = df_cast.select('id', 'valor').withColumn('valor_dolar', round(col('valor')*5, 2))\n",
        "\n",
        "df_dolar.show()"
      ],
      "metadata": {
        "colab": {
          "base_uri": "https://localhost:8080/"
        },
        "id": "brzofwibMi8u",
        "outputId": "aa02deef-2833-4bd8-ea57-025c28bebf32"
      },
      "execution_count": 51,
      "outputs": [
        {
          "output_type": "stream",
          "name": "stdout",
          "text": [
            "+---+--------+-----------+\n",
            "| id|   valor|valor_dolar|\n",
            "+---+--------+-----------+\n",
            "|  1|    9.93|      49.65|\n",
            "|  2|   15.38|       76.9|\n",
            "|  3|   57.58|      287.9|\n",
            "|  4|53705.13|  268525.65|\n",
            "|  5|25299.69|  126498.45|\n",
            "|  6| 7165.06|    35825.3|\n",
            "|  7|    6.16|       30.8|\n",
            "|  8|  136.36|      681.8|\n",
            "|  9|  574.39|    2871.95|\n",
            "| 10|   42.88|      214.4|\n",
            "| 11|33629.97|  168149.85|\n",
            "| 12| 4374.56|    21872.8|\n",
            "| 13|  507.18|     2535.9|\n",
            "| 14|67758.87|  338794.35|\n",
            "| 15|  815.53|    4077.65|\n",
            "| 16|    2.73|      13.65|\n",
            "| 17|    0.54|        2.7|\n",
            "| 18|49836.72|   249183.6|\n",
            "| 19|    9.68|       48.4|\n",
            "| 20| 9837.22|    49186.1|\n",
            "+---+--------+-----------+\n",
            "only showing top 20 rows\n",
            "\n"
          ]
        }
      ]
    },
    {
      "cell_type": "code",
      "source": [
        "# Retirando colunas\n",
        "df_dolar.drop('valor').show()"
      ],
      "metadata": {
        "colab": {
          "base_uri": "https://localhost:8080/"
        },
        "id": "DPx0lJdfNRZ7",
        "outputId": "a207c1eb-82ed-4e00-a8ca-fd28bb6822ba"
      },
      "execution_count": 52,
      "outputs": [
        {
          "output_type": "stream",
          "name": "stdout",
          "text": [
            "+---+-----------+\n",
            "| id|valor_dolar|\n",
            "+---+-----------+\n",
            "|  1|      49.65|\n",
            "|  2|       76.9|\n",
            "|  3|      287.9|\n",
            "|  4|  268525.65|\n",
            "|  5|  126498.45|\n",
            "|  6|    35825.3|\n",
            "|  7|       30.8|\n",
            "|  8|      681.8|\n",
            "|  9|    2871.95|\n",
            "| 10|      214.4|\n",
            "| 11|  168149.85|\n",
            "| 12|    21872.8|\n",
            "| 13|     2535.9|\n",
            "| 14|  338794.35|\n",
            "| 15|    4077.65|\n",
            "| 16|      13.65|\n",
            "| 17|        2.7|\n",
            "| 18|   249183.6|\n",
            "| 19|       48.4|\n",
            "| 20|    49186.1|\n",
            "+---+-----------+\n",
            "only showing top 20 rows\n",
            "\n"
          ]
        }
      ]
    },
    {
      "cell_type": "code",
      "source": [
        "# Trocando o nome da coluna\n",
        "df_dolar.withColumnRenamed('valor_dolar', 'dolar_valor').show()"
      ],
      "metadata": {
        "colab": {
          "base_uri": "https://localhost:8080/"
        },
        "id": "FtIgRLnnN_YY",
        "outputId": "e38532cb-26fc-4778-cd49-acb76da1894d"
      },
      "execution_count": 54,
      "outputs": [
        {
          "output_type": "stream",
          "name": "stdout",
          "text": [
            "+---+--------+-----------+\n",
            "| id|   valor|dolar_valor|\n",
            "+---+--------+-----------+\n",
            "|  1|    9.93|      49.65|\n",
            "|  2|   15.38|       76.9|\n",
            "|  3|   57.58|      287.9|\n",
            "|  4|53705.13|  268525.65|\n",
            "|  5|25299.69|  126498.45|\n",
            "|  6| 7165.06|    35825.3|\n",
            "|  7|    6.16|       30.8|\n",
            "|  8|  136.36|      681.8|\n",
            "|  9|  574.39|    2871.95|\n",
            "| 10|   42.88|      214.4|\n",
            "| 11|33629.97|  168149.85|\n",
            "| 12| 4374.56|    21872.8|\n",
            "| 13|  507.18|     2535.9|\n",
            "| 14|67758.87|  338794.35|\n",
            "| 15|  815.53|    4077.65|\n",
            "| 16|    2.73|      13.65|\n",
            "| 17|    0.54|        2.7|\n",
            "| 18|49836.72|   249183.6|\n",
            "| 19|    9.68|       48.4|\n",
            "| 20| 9837.22|    49186.1|\n",
            "+---+--------+-----------+\n",
            "only showing top 20 rows\n",
            "\n"
          ]
        }
      ]
    },
    {
      "cell_type": "markdown",
      "source": [
        "### Operações"
      ],
      "metadata": {
        "id": "5plvVs82Ofaj"
      }
    },
    {
      "cell_type": "code",
      "source": [
        "# igualdade\n",
        "df_cast.select('id','valor','chave_pix_tipo').filter(col('chave_pix_tipo')== 'cpf').show()"
      ],
      "metadata": {
        "colab": {
          "base_uri": "https://localhost:8080/"
        },
        "id": "EtOqLmk2OXQI",
        "outputId": "92d0919f-d5cc-4242-ab43-58e270bd63e1"
      },
      "execution_count": 55,
      "outputs": [
        {
          "output_type": "stream",
          "name": "stdout",
          "text": [
            "+---+--------+--------------+\n",
            "| id|   valor|chave_pix_tipo|\n",
            "+---+--------+--------------+\n",
            "|  1|    9.93|           cpf|\n",
            "|  2|   15.38|           cpf|\n",
            "|  3|   57.58|           cpf|\n",
            "|  4|53705.13|           cpf|\n",
            "|  5|25299.69|           cpf|\n",
            "|  6| 7165.06|           cpf|\n",
            "|  7|    6.16|           cpf|\n",
            "|  8|  136.36|           cpf|\n",
            "|  9|  574.39|           cpf|\n",
            "| 10|   42.88|           cpf|\n",
            "| 11|33629.97|           cpf|\n",
            "| 12| 4374.56|           cpf|\n",
            "| 13|  507.18|           cpf|\n",
            "| 14|67758.87|           cpf|\n",
            "| 15|  815.53|           cpf|\n",
            "| 16|    2.73|           cpf|\n",
            "| 17|    0.54|           cpf|\n",
            "| 18|49836.72|           cpf|\n",
            "| 41|   60.55|           cpf|\n",
            "| 42|    6.62|           cpf|\n",
            "+---+--------+--------------+\n",
            "only showing top 20 rows\n",
            "\n"
          ]
        }
      ]
    },
    {
      "cell_type": "code",
      "source": [
        "# Diferente\n",
        "df_cast.select('id','valor','chave_pix_tipo').filter(col('chave_pix_tipo')!= 'cpf').show()"
      ],
      "metadata": {
        "colab": {
          "base_uri": "https://localhost:8080/"
        },
        "id": "Su6hBFCOO8Sx",
        "outputId": "5a11c71c-0a53-46a7-d568-cbee909e9701"
      },
      "execution_count": 57,
      "outputs": [
        {
          "output_type": "stream",
          "name": "stdout",
          "text": [
            "+---+--------+--------------+\n",
            "| id|   valor|chave_pix_tipo|\n",
            "+---+--------+--------------+\n",
            "| 19|    9.68|       celular|\n",
            "| 20| 9837.22|       celular|\n",
            "| 21|    9.36|       celular|\n",
            "| 22|   22.43|       celular|\n",
            "| 23|    7.44|       celular|\n",
            "| 24|   40.36|       celular|\n",
            "| 25|   28.66|       celular|\n",
            "| 26|  154.98|       celular|\n",
            "| 27|35859.11|       celular|\n",
            "| 28|   89.94|       celular|\n",
            "| 29|  890.47|       celular|\n",
            "| 30| 3035.83|       celular|\n",
            "| 31|20875.64|       celular|\n",
            "| 32| 1508.83|       celular|\n",
            "| 33|    1.58|       celular|\n",
            "| 34|58083.62|       celular|\n",
            "| 35| 7944.02|       celular|\n",
            "| 36|48714.95|       celular|\n",
            "| 37|19799.16|       celular|\n",
            "| 38|   32.79|       celular|\n",
            "+---+--------+--------------+\n",
            "only showing top 20 rows\n",
            "\n"
          ]
        }
      ]
    },
    {
      "cell_type": "code",
      "source": [
        "# Maior e And\n",
        "df_cast.select('id','valor','chave_pix_tipo').filter(\n",
        "    (col('chave_pix_tipo')== 'cpf')\n",
        "    &\n",
        "    (col('valor')> 10000)\n",
        "\n",
        ").show()"
      ],
      "metadata": {
        "colab": {
          "base_uri": "https://localhost:8080/"
        },
        "id": "2l5LE2LGPCRz",
        "outputId": "1c438a97-0044-46e2-cb65-53c19422e889"
      },
      "execution_count": 59,
      "outputs": [
        {
          "output_type": "stream",
          "name": "stdout",
          "text": [
            "+---+--------+--------------+\n",
            "| id|   valor|chave_pix_tipo|\n",
            "+---+--------+--------------+\n",
            "|  4|53705.13|           cpf|\n",
            "|  5|25299.69|           cpf|\n",
            "| 11|33629.97|           cpf|\n",
            "| 14|67758.87|           cpf|\n",
            "| 18|49836.72|           cpf|\n",
            "| 47|38219.08|           cpf|\n",
            "| 52|60139.23|           cpf|\n",
            "| 54|95977.62|           cpf|\n",
            "| 55|35409.61|           cpf|\n",
            "| 62|57433.69|           cpf|\n",
            "| 66|21639.12|           cpf|\n",
            "| 71|80083.34|           cpf|\n",
            "+---+--------+--------------+\n",
            "\n"
          ]
        }
      ]
    },
    {
      "cell_type": "markdown",
      "source": [
        "## Manipulação III"
      ],
      "metadata": {
        "id": "UXMRCVciQDV9"
      }
    },
    {
      "cell_type": "markdown",
      "source": [
        "### Tratando Nulos"
      ],
      "metadata": {
        "id": "xrkgcHICQjgJ"
      }
    },
    {
      "cell_type": "code",
      "source": [
        "df_cast.show()"
      ],
      "metadata": {
        "colab": {
          "base_uri": "https://localhost:8080/"
        },
        "id": "_A5aSLB7PeVf",
        "outputId": "c59b715c-9d55-43d4-d6d7-1d1ed7922d77"
      },
      "execution_count": 61,
      "outputs": [
        {
          "output_type": "stream",
          "name": "stdout",
          "text": [
            "+---+--------+--------------------+--------------------+--------------------+--------------------+---------------------+---------------------+--------------+---------------+-------------------+\n",
            "| id|   valor| parte_debitada_nome|parte_debitada_conta|parte_debitada_banco|parte_creditada_nome|parte_creditada_conta|parte_creditada_banco|chave_pix_tipo|chave_pix_valor|     data_transacao|\n",
            "+---+--------+--------------------+--------------------+--------------------+--------------------+---------------------+---------------------+--------------+---------------+-------------------+\n",
            "|  1|    9.93|Dra. Ana Carolina...|            79470453|              Nubank|       Maysa da Cruz|             67162333|                 Itau|           cpf|     8439752610|2022-02-18 13:28:00|\n",
            "|  2|   15.38|        Ana Caldeira|            19689668|                Itau|        Evelyn Sales|             60005091|             Bradesco|           cpf|    27145380617|2022-04-08 01:47:00|\n",
            "|  3|   57.58|    Arthur Goncalves|            18856899|            Bradesco|          Maria Melo|             13496303|                  BTG|           cpf|    16452937006|2022-07-14 03:18:00|\n",
            "|  4|53705.13|  Ana Julia Caldeira|            22834741|                Itau|   Ana Livia Almeida|             44695116|               Nubank|           cpf|    26590384142|2022-01-15 18:06:00|\n",
            "|  5|25299.69|  Srta. Nicole Pinto|             3715882|              Nubank|Srta. Ana Laura d...|             21409465|               Nubank|           cpf|    73486105280|2022-05-13 11:04:00|\n",
            "|  6| 7165.06|   Gabriela Ferreira|             2243037|              Nubank|       Larissa Souza|             10689552|                 Itau|           cpf|    96845371237|2022-09-11 13:38:00|\n",
            "|  7|    6.16|    Heloisa da Rocha|            59778949|                 BTG|Dra. Vitoria Silv...|             56583792|               Nubank|           cpf|    89064175357|2021-12-10 12:37:00|\n",
            "|  8|  136.36|Srta. Isadora Cor...|            77102442|              Nubank|  Francisco da Costa|             96088386|               Nubank|           cpf|    85907632429|2021-12-30 23:18:00|\n",
            "|  9|  574.39|   Dr. Lucas da Cruz|            38501170|                 BTG|       Calebe da Luz|             19365554|             Bradesco|           cpf|    64720189520|2021-06-21 07:20:00|\n",
            "| 10|   42.88|     Mirella Martins|            29535709|            Bradesco|        Danilo Lopes|             60064650|                 Itau|           cpf|    87014935232|2022-09-21 17:19:00|\n",
            "| 11|33629.97|Sr. Vitor Gabriel...|            67010663|                 BTG|Sra. Lavinia Cald...|             48145941|               Nubank|           cpf|    63542098124|2022-09-12 00:29:00|\n",
            "| 12| 4374.56|      Nathan Peixoto|            22975623|              Nubank|        Diogo da Luz|             30302218|             Bradesco|           cpf|    72908154323|2022-08-07 17:01:00|\n",
            "| 13|  507.18|       Miguel Araujo|            75113657|              Nubank|Marcos Vinicius G...|             67418115|                 Itau|           cpf|    84763129031|2021-03-07 12:34:00|\n",
            "| 14|67758.87|     Juliana Correia|             4495167|                Itau|    Davi Lucas Porto|             94395923|                  BTG|           cpf|    97804215649|2021-03-24 22:58:00|\n",
            "| 15|  815.53|     Ana Laura Souza|            79650252|                Itau|        Isabel Costa|             28762988|                  BTG|           cpf|    51824039689|2022-02-21 11:25:00|\n",
            "| 16|    2.73|           Levi Lima|            73815441|                 BTG|Dra. Maria Luiza ...|             96594203|             Bradesco|           cpf|    94516738066|2021-07-20 09:17:00|\n",
            "| 17|    0.54|        Otavio Cunha|            85583961|            Bradesco|       Elisa Moreira|             97003354|             Bradesco|           cpf|    15248769094|2022-02-16 10:16:00|\n",
            "| 18|49836.72|Ana Carolina Oliv...|            80200942|                Itau|    Stella Fernandes|             31579145|                  BTG|           cpf|    47609381250|2022-07-18 22:46:00|\n",
            "| 19|    9.68|        Levi Martins|            12349481|                Itau|Joao Guilherme Me...|             31102492|                  BTG|       celular|    11916824404|2022-02-26 15:05:00|\n",
            "| 20| 9837.22|          Noah Cunha|            84622162|            Bradesco|         Juan Mendes|             97805965|             Bradesco|       celular|    11944547225|2021-06-22 05:39:00|\n",
            "+---+--------+--------------------+--------------------+--------------------+--------------------+---------------------+---------------------+--------------+---------------+-------------------+\n",
            "only showing top 20 rows\n",
            "\n"
          ]
        }
      ]
    },
    {
      "cell_type": "code",
      "source": [
        "# drop_na()\n",
        "# Any - qualquer valor da linha que estiver nulo tudo vai embora\n",
        "# All - somente se todos os valores estiverem nulos\n",
        "df_cast.na.drop(how='all', subset=['id','valor']).show()"
      ],
      "metadata": {
        "colab": {
          "base_uri": "https://localhost:8080/"
        },
        "id": "U_A4kgDGQqAl",
        "outputId": "56a2270d-17a4-4107-d6b2-1fbd71a2a595"
      },
      "execution_count": 67,
      "outputs": [
        {
          "output_type": "stream",
          "name": "stdout",
          "text": [
            "+---+--------+--------------------+--------------------+--------------------+--------------------+---------------------+---------------------+--------------+---------------+-------------------+\n",
            "| id|   valor| parte_debitada_nome|parte_debitada_conta|parte_debitada_banco|parte_creditada_nome|parte_creditada_conta|parte_creditada_banco|chave_pix_tipo|chave_pix_valor|     data_transacao|\n",
            "+---+--------+--------------------+--------------------+--------------------+--------------------+---------------------+---------------------+--------------+---------------+-------------------+\n",
            "|  1|    9.93|Dra. Ana Carolina...|            79470453|              Nubank|       Maysa da Cruz|             67162333|                 Itau|           cpf|     8439752610|2022-02-18 13:28:00|\n",
            "|  2|   15.38|        Ana Caldeira|            19689668|                Itau|        Evelyn Sales|             60005091|             Bradesco|           cpf|    27145380617|2022-04-08 01:47:00|\n",
            "|  3|   57.58|    Arthur Goncalves|            18856899|            Bradesco|          Maria Melo|             13496303|                  BTG|           cpf|    16452937006|2022-07-14 03:18:00|\n",
            "|  4|53705.13|  Ana Julia Caldeira|            22834741|                Itau|   Ana Livia Almeida|             44695116|               Nubank|           cpf|    26590384142|2022-01-15 18:06:00|\n",
            "|  5|25299.69|  Srta. Nicole Pinto|             3715882|              Nubank|Srta. Ana Laura d...|             21409465|               Nubank|           cpf|    73486105280|2022-05-13 11:04:00|\n",
            "|  6| 7165.06|   Gabriela Ferreira|             2243037|              Nubank|       Larissa Souza|             10689552|                 Itau|           cpf|    96845371237|2022-09-11 13:38:00|\n",
            "|  7|    6.16|    Heloisa da Rocha|            59778949|                 BTG|Dra. Vitoria Silv...|             56583792|               Nubank|           cpf|    89064175357|2021-12-10 12:37:00|\n",
            "|  8|  136.36|Srta. Isadora Cor...|            77102442|              Nubank|  Francisco da Costa|             96088386|               Nubank|           cpf|    85907632429|2021-12-30 23:18:00|\n",
            "|  9|  574.39|   Dr. Lucas da Cruz|            38501170|                 BTG|       Calebe da Luz|             19365554|             Bradesco|           cpf|    64720189520|2021-06-21 07:20:00|\n",
            "| 10|   42.88|     Mirella Martins|            29535709|            Bradesco|        Danilo Lopes|             60064650|                 Itau|           cpf|    87014935232|2022-09-21 17:19:00|\n",
            "| 11|33629.97|Sr. Vitor Gabriel...|            67010663|                 BTG|Sra. Lavinia Cald...|             48145941|               Nubank|           cpf|    63542098124|2022-09-12 00:29:00|\n",
            "| 12| 4374.56|      Nathan Peixoto|            22975623|              Nubank|        Diogo da Luz|             30302218|             Bradesco|           cpf|    72908154323|2022-08-07 17:01:00|\n",
            "| 13|  507.18|       Miguel Araujo|            75113657|              Nubank|Marcos Vinicius G...|             67418115|                 Itau|           cpf|    84763129031|2021-03-07 12:34:00|\n",
            "| 14|67758.87|     Juliana Correia|             4495167|                Itau|    Davi Lucas Porto|             94395923|                  BTG|           cpf|    97804215649|2021-03-24 22:58:00|\n",
            "| 15|  815.53|     Ana Laura Souza|            79650252|                Itau|        Isabel Costa|             28762988|                  BTG|           cpf|    51824039689|2022-02-21 11:25:00|\n",
            "| 16|    2.73|           Levi Lima|            73815441|                 BTG|Dra. Maria Luiza ...|             96594203|             Bradesco|           cpf|    94516738066|2021-07-20 09:17:00|\n",
            "| 17|    0.54|        Otavio Cunha|            85583961|            Bradesco|       Elisa Moreira|             97003354|             Bradesco|           cpf|    15248769094|2022-02-16 10:16:00|\n",
            "| 18|49836.72|Ana Carolina Oliv...|            80200942|                Itau|    Stella Fernandes|             31579145|                  BTG|           cpf|    47609381250|2022-07-18 22:46:00|\n",
            "| 19|    9.68|        Levi Martins|            12349481|                Itau|Joao Guilherme Me...|             31102492|                  BTG|       celular|    11916824404|2022-02-26 15:05:00|\n",
            "| 20| 9837.22|          Noah Cunha|            84622162|            Bradesco|         Juan Mendes|             97805965|             Bradesco|       celular|    11944547225|2021-06-22 05:39:00|\n",
            "+---+--------+--------------------+--------------------+--------------------+--------------------+---------------------+---------------------+--------------+---------------+-------------------+\n",
            "only showing top 20 rows\n",
            "\n"
          ]
        }
      ]
    },
    {
      "cell_type": "code",
      "source": [
        "# Colocando 0 na célula vazia\n",
        "df_cast.na.fill(value=0, subset=['valor']).show()"
      ],
      "metadata": {
        "colab": {
          "base_uri": "https://localhost:8080/"
        },
        "id": "Ol8QQ_c7RlhW",
        "outputId": "516fc252-3dfc-4131-adaa-072f271126f4"
      },
      "execution_count": 69,
      "outputs": [
        {
          "output_type": "stream",
          "name": "stdout",
          "text": [
            "+---+--------+--------------------+--------------------+--------------------+--------------------+---------------------+---------------------+--------------+---------------+-------------------+\n",
            "| id|   valor| parte_debitada_nome|parte_debitada_conta|parte_debitada_banco|parte_creditada_nome|parte_creditada_conta|parte_creditada_banco|chave_pix_tipo|chave_pix_valor|     data_transacao|\n",
            "+---+--------+--------------------+--------------------+--------------------+--------------------+---------------------+---------------------+--------------+---------------+-------------------+\n",
            "|  1|    9.93|Dra. Ana Carolina...|            79470453|              Nubank|       Maysa da Cruz|             67162333|                 Itau|           cpf|     8439752610|2022-02-18 13:28:00|\n",
            "|  2|   15.38|        Ana Caldeira|            19689668|                Itau|        Evelyn Sales|             60005091|             Bradesco|           cpf|    27145380617|2022-04-08 01:47:00|\n",
            "|  3|   57.58|    Arthur Goncalves|            18856899|            Bradesco|          Maria Melo|             13496303|                  BTG|           cpf|    16452937006|2022-07-14 03:18:00|\n",
            "|  4|53705.13|  Ana Julia Caldeira|            22834741|                Itau|   Ana Livia Almeida|             44695116|               Nubank|           cpf|    26590384142|2022-01-15 18:06:00|\n",
            "|  5|25299.69|  Srta. Nicole Pinto|             3715882|              Nubank|Srta. Ana Laura d...|             21409465|               Nubank|           cpf|    73486105280|2022-05-13 11:04:00|\n",
            "|  6| 7165.06|   Gabriela Ferreira|             2243037|              Nubank|       Larissa Souza|             10689552|                 Itau|           cpf|    96845371237|2022-09-11 13:38:00|\n",
            "|  7|    6.16|    Heloisa da Rocha|            59778949|                 BTG|Dra. Vitoria Silv...|             56583792|               Nubank|           cpf|    89064175357|2021-12-10 12:37:00|\n",
            "|  8|  136.36|Srta. Isadora Cor...|            77102442|              Nubank|  Francisco da Costa|             96088386|               Nubank|           cpf|    85907632429|2021-12-30 23:18:00|\n",
            "|  9|  574.39|   Dr. Lucas da Cruz|            38501170|                 BTG|       Calebe da Luz|             19365554|             Bradesco|           cpf|    64720189520|2021-06-21 07:20:00|\n",
            "| 10|   42.88|     Mirella Martins|            29535709|            Bradesco|        Danilo Lopes|             60064650|                 Itau|           cpf|    87014935232|2022-09-21 17:19:00|\n",
            "| 11|33629.97|Sr. Vitor Gabriel...|            67010663|                 BTG|Sra. Lavinia Cald...|             48145941|               Nubank|           cpf|    63542098124|2022-09-12 00:29:00|\n",
            "| 12| 4374.56|      Nathan Peixoto|            22975623|              Nubank|        Diogo da Luz|             30302218|             Bradesco|           cpf|    72908154323|2022-08-07 17:01:00|\n",
            "| 13|  507.18|       Miguel Araujo|            75113657|              Nubank|Marcos Vinicius G...|             67418115|                 Itau|           cpf|    84763129031|2021-03-07 12:34:00|\n",
            "| 14|67758.87|     Juliana Correia|             4495167|                Itau|    Davi Lucas Porto|             94395923|                  BTG|           cpf|    97804215649|2021-03-24 22:58:00|\n",
            "| 15|  815.53|     Ana Laura Souza|            79650252|                Itau|        Isabel Costa|             28762988|                  BTG|           cpf|    51824039689|2022-02-21 11:25:00|\n",
            "| 16|    2.73|           Levi Lima|            73815441|                 BTG|Dra. Maria Luiza ...|             96594203|             Bradesco|           cpf|    94516738066|2021-07-20 09:17:00|\n",
            "| 17|    0.54|        Otavio Cunha|            85583961|            Bradesco|       Elisa Moreira|             97003354|             Bradesco|           cpf|    15248769094|2022-02-16 10:16:00|\n",
            "| 18|49836.72|Ana Carolina Oliv...|            80200942|                Itau|    Stella Fernandes|             31579145|                  BTG|           cpf|    47609381250|2022-07-18 22:46:00|\n",
            "| 19|    9.68|        Levi Martins|            12349481|                Itau|Joao Guilherme Me...|             31102492|                  BTG|       celular|    11916824404|2022-02-26 15:05:00|\n",
            "| 20| 9837.22|          Noah Cunha|            84622162|            Bradesco|         Juan Mendes|             97805965|             Bradesco|       celular|    11944547225|2021-06-22 05:39:00|\n",
            "+---+--------+--------------------+--------------------+--------------------+--------------------+---------------------+---------------------+--------------+---------------+-------------------+\n",
            "only showing top 20 rows\n",
            "\n"
          ]
        }
      ]
    },
    {
      "cell_type": "markdown",
      "source": [
        "### Agrupamentos"
      ],
      "metadata": {
        "id": "TTLHRDo5R8MG"
      }
    },
    {
      "cell_type": "code",
      "source": [
        "df_cast.select('chave_pix_tipo').groupBy('chave_pix_tipo').count().show()"
      ],
      "metadata": {
        "colab": {
          "base_uri": "https://localhost:8080/"
        },
        "id": "HYPiG5FNR9h1",
        "outputId": "03c9046c-e000-4dc1-d6a2-800cc50f788f"
      },
      "execution_count": 71,
      "outputs": [
        {
          "output_type": "stream",
          "name": "stdout",
          "text": [
            "+--------------+-----+\n",
            "|chave_pix_tipo|count|\n",
            "+--------------+-----+\n",
            "|       celular|   22|\n",
            "|         email|   29|\n",
            "|           cpf|   49|\n",
            "+--------------+-----+\n",
            "\n"
          ]
        }
      ]
    },
    {
      "cell_type": "code",
      "source": [
        "df_cast.select('chave_pix_tipo', 'valor').groupBy('chave_pix_tipo').sum().show()"
      ],
      "metadata": {
        "colab": {
          "base_uri": "https://localhost:8080/"
        },
        "id": "6rY0xr50SQ-_",
        "outputId": "2ac9fe13-c664-4a79-8a69-a0e628c4917b"
      },
      "execution_count": 76,
      "outputs": [
        {
          "output_type": "stream",
          "name": "stdout",
          "text": [
            "+--------------+------------------+\n",
            "|chave_pix_tipo|        sum(valor)|\n",
            "+--------------+------------------+\n",
            "|       celular|         207778.46|\n",
            "|         email|499009.38000000006|\n",
            "|           cpf| 659513.3499999997|\n",
            "+--------------+------------------+\n",
            "\n"
          ]
        }
      ]
    },
    {
      "cell_type": "code",
      "source": [
        "df_cast.select('chave_pix_tipo', 'valor').groupBy('chave_pix_tipo').avg().show()"
      ],
      "metadata": {
        "colab": {
          "base_uri": "https://localhost:8080/"
        },
        "id": "MVSX4w3sSfqW",
        "outputId": "1cea4a7f-91ba-41ca-dd08-6ca084b9f535"
      },
      "execution_count": 77,
      "outputs": [
        {
          "output_type": "stream",
          "name": "stdout",
          "text": [
            "+--------------+------------------+\n",
            "|chave_pix_tipo|        avg(valor)|\n",
            "+--------------+------------------+\n",
            "|       celular| 9444.475454545454|\n",
            "|         email|          17207.22|\n",
            "|           cpf|13459.456122448973|\n",
            "+--------------+------------------+\n",
            "\n"
          ]
        }
      ]
    },
    {
      "cell_type": "markdown",
      "source": [
        "# Escrita de dados"
      ],
      "metadata": {
        "id": "U0Jfx27sTRPn"
      }
    },
    {
      "cell_type": "code",
      "source": [
        "df_cast.show()"
      ],
      "metadata": {
        "colab": {
          "base_uri": "https://localhost:8080/"
        },
        "id": "dh7L90gLTTOu",
        "outputId": "99c553cd-c3d8-4683-d778-02ecaf3a736c"
      },
      "execution_count": 93,
      "outputs": [
        {
          "output_type": "stream",
          "name": "stdout",
          "text": [
            "+---+--------+--------------------+--------------------+--------------------+--------------------+---------------------+---------------------+--------------+---------------+-------------------+\n",
            "| id|   valor| parte_debitada_nome|parte_debitada_conta|parte_debitada_banco|parte_creditada_nome|parte_creditada_conta|parte_creditada_banco|chave_pix_tipo|chave_pix_valor|     data_transacao|\n",
            "+---+--------+--------------------+--------------------+--------------------+--------------------+---------------------+---------------------+--------------+---------------+-------------------+\n",
            "|  1|    9.93|Dra. Ana Carolina...|            79470453|              Nubank|       Maysa da Cruz|             67162333|                 Itau|           cpf|     8439752610|2022-02-18 13:28:00|\n",
            "|  2|   15.38|        Ana Caldeira|            19689668|                Itau|        Evelyn Sales|             60005091|             Bradesco|           cpf|    27145380617|2022-04-08 01:47:00|\n",
            "|  3|   57.58|    Arthur Goncalves|            18856899|            Bradesco|          Maria Melo|             13496303|                  BTG|           cpf|    16452937006|2022-07-14 03:18:00|\n",
            "|  4|53705.13|  Ana Julia Caldeira|            22834741|                Itau|   Ana Livia Almeida|             44695116|               Nubank|           cpf|    26590384142|2022-01-15 18:06:00|\n",
            "|  5|25299.69|  Srta. Nicole Pinto|             3715882|              Nubank|Srta. Ana Laura d...|             21409465|               Nubank|           cpf|    73486105280|2022-05-13 11:04:00|\n",
            "|  6| 7165.06|   Gabriela Ferreira|             2243037|              Nubank|       Larissa Souza|             10689552|                 Itau|           cpf|    96845371237|2022-09-11 13:38:00|\n",
            "|  7|    6.16|    Heloisa da Rocha|            59778949|                 BTG|Dra. Vitoria Silv...|             56583792|               Nubank|           cpf|    89064175357|2021-12-10 12:37:00|\n",
            "|  8|  136.36|Srta. Isadora Cor...|            77102442|              Nubank|  Francisco da Costa|             96088386|               Nubank|           cpf|    85907632429|2021-12-30 23:18:00|\n",
            "|  9|  574.39|   Dr. Lucas da Cruz|            38501170|                 BTG|       Calebe da Luz|             19365554|             Bradesco|           cpf|    64720189520|2021-06-21 07:20:00|\n",
            "| 10|   42.88|     Mirella Martins|            29535709|            Bradesco|        Danilo Lopes|             60064650|                 Itau|           cpf|    87014935232|2022-09-21 17:19:00|\n",
            "| 11|33629.97|Sr. Vitor Gabriel...|            67010663|                 BTG|Sra. Lavinia Cald...|             48145941|               Nubank|           cpf|    63542098124|2022-09-12 00:29:00|\n",
            "| 12| 4374.56|      Nathan Peixoto|            22975623|              Nubank|        Diogo da Luz|             30302218|             Bradesco|           cpf|    72908154323|2022-08-07 17:01:00|\n",
            "| 13|  507.18|       Miguel Araujo|            75113657|              Nubank|Marcos Vinicius G...|             67418115|                 Itau|           cpf|    84763129031|2021-03-07 12:34:00|\n",
            "| 14|67758.87|     Juliana Correia|             4495167|                Itau|    Davi Lucas Porto|             94395923|                  BTG|           cpf|    97804215649|2021-03-24 22:58:00|\n",
            "| 15|  815.53|     Ana Laura Souza|            79650252|                Itau|        Isabel Costa|             28762988|                  BTG|           cpf|    51824039689|2022-02-21 11:25:00|\n",
            "| 16|    2.73|           Levi Lima|            73815441|                 BTG|Dra. Maria Luiza ...|             96594203|             Bradesco|           cpf|    94516738066|2021-07-20 09:17:00|\n",
            "| 17|    0.54|        Otavio Cunha|            85583961|            Bradesco|       Elisa Moreira|             97003354|             Bradesco|           cpf|    15248769094|2022-02-16 10:16:00|\n",
            "| 18|49836.72|Ana Carolina Oliv...|            80200942|                Itau|    Stella Fernandes|             31579145|                  BTG|           cpf|    47609381250|2022-07-18 22:46:00|\n",
            "| 19|    9.68|        Levi Martins|            12349481|                Itau|Joao Guilherme Me...|             31102492|                  BTG|       celular|    11916824404|2022-02-26 15:05:00|\n",
            "| 20| 9837.22|          Noah Cunha|            84622162|            Bradesco|         Juan Mendes|             97805965|             Bradesco|       celular|    11944547225|2021-06-22 05:39:00|\n",
            "+---+--------+--------------------+--------------------+--------------------+--------------------+---------------------+---------------------+--------------+---------------+-------------------+\n",
            "only showing top 20 rows\n",
            "\n"
          ]
        }
      ]
    },
    {
      "cell_type": "code",
      "source": [
        "df_not_null =  df_cast.na.fill(0, subset=['valor'])\n",
        "df_not_null.show()"
      ],
      "metadata": {
        "colab": {
          "base_uri": "https://localhost:8080/"
        },
        "id": "oGWd7PKCTYtn",
        "outputId": "83734d48-3b8a-4916-c81f-7f3aa078a7d9"
      },
      "execution_count": 94,
      "outputs": [
        {
          "output_type": "stream",
          "name": "stdout",
          "text": [
            "+---+--------+--------------------+--------------------+--------------------+--------------------+---------------------+---------------------+--------------+---------------+-------------------+\n",
            "| id|   valor| parte_debitada_nome|parte_debitada_conta|parte_debitada_banco|parte_creditada_nome|parte_creditada_conta|parte_creditada_banco|chave_pix_tipo|chave_pix_valor|     data_transacao|\n",
            "+---+--------+--------------------+--------------------+--------------------+--------------------+---------------------+---------------------+--------------+---------------+-------------------+\n",
            "|  1|    9.93|Dra. Ana Carolina...|            79470453|              Nubank|       Maysa da Cruz|             67162333|                 Itau|           cpf|     8439752610|2022-02-18 13:28:00|\n",
            "|  2|   15.38|        Ana Caldeira|            19689668|                Itau|        Evelyn Sales|             60005091|             Bradesco|           cpf|    27145380617|2022-04-08 01:47:00|\n",
            "|  3|   57.58|    Arthur Goncalves|            18856899|            Bradesco|          Maria Melo|             13496303|                  BTG|           cpf|    16452937006|2022-07-14 03:18:00|\n",
            "|  4|53705.13|  Ana Julia Caldeira|            22834741|                Itau|   Ana Livia Almeida|             44695116|               Nubank|           cpf|    26590384142|2022-01-15 18:06:00|\n",
            "|  5|25299.69|  Srta. Nicole Pinto|             3715882|              Nubank|Srta. Ana Laura d...|             21409465|               Nubank|           cpf|    73486105280|2022-05-13 11:04:00|\n",
            "|  6| 7165.06|   Gabriela Ferreira|             2243037|              Nubank|       Larissa Souza|             10689552|                 Itau|           cpf|    96845371237|2022-09-11 13:38:00|\n",
            "|  7|    6.16|    Heloisa da Rocha|            59778949|                 BTG|Dra. Vitoria Silv...|             56583792|               Nubank|           cpf|    89064175357|2021-12-10 12:37:00|\n",
            "|  8|  136.36|Srta. Isadora Cor...|            77102442|              Nubank|  Francisco da Costa|             96088386|               Nubank|           cpf|    85907632429|2021-12-30 23:18:00|\n",
            "|  9|  574.39|   Dr. Lucas da Cruz|            38501170|                 BTG|       Calebe da Luz|             19365554|             Bradesco|           cpf|    64720189520|2021-06-21 07:20:00|\n",
            "| 10|   42.88|     Mirella Martins|            29535709|            Bradesco|        Danilo Lopes|             60064650|                 Itau|           cpf|    87014935232|2022-09-21 17:19:00|\n",
            "| 11|33629.97|Sr. Vitor Gabriel...|            67010663|                 BTG|Sra. Lavinia Cald...|             48145941|               Nubank|           cpf|    63542098124|2022-09-12 00:29:00|\n",
            "| 12| 4374.56|      Nathan Peixoto|            22975623|              Nubank|        Diogo da Luz|             30302218|             Bradesco|           cpf|    72908154323|2022-08-07 17:01:00|\n",
            "| 13|  507.18|       Miguel Araujo|            75113657|              Nubank|Marcos Vinicius G...|             67418115|                 Itau|           cpf|    84763129031|2021-03-07 12:34:00|\n",
            "| 14|67758.87|     Juliana Correia|             4495167|                Itau|    Davi Lucas Porto|             94395923|                  BTG|           cpf|    97804215649|2021-03-24 22:58:00|\n",
            "| 15|  815.53|     Ana Laura Souza|            79650252|                Itau|        Isabel Costa|             28762988|                  BTG|           cpf|    51824039689|2022-02-21 11:25:00|\n",
            "| 16|    2.73|           Levi Lima|            73815441|                 BTG|Dra. Maria Luiza ...|             96594203|             Bradesco|           cpf|    94516738066|2021-07-20 09:17:00|\n",
            "| 17|    0.54|        Otavio Cunha|            85583961|            Bradesco|       Elisa Moreira|             97003354|             Bradesco|           cpf|    15248769094|2022-02-16 10:16:00|\n",
            "| 18|49836.72|Ana Carolina Oliv...|            80200942|                Itau|    Stella Fernandes|             31579145|                  BTG|           cpf|    47609381250|2022-07-18 22:46:00|\n",
            "| 19|    9.68|        Levi Martins|            12349481|                Itau|Joao Guilherme Me...|             31102492|                  BTG|       celular|    11916824404|2022-02-26 15:05:00|\n",
            "| 20| 9837.22|          Noah Cunha|            84622162|            Bradesco|         Juan Mendes|             97805965|             Bradesco|       celular|    11944547225|2021-06-22 05:39:00|\n",
            "+---+--------+--------------------+--------------------+--------------------+--------------------+---------------------+---------------------+--------------+---------------+-------------------+\n",
            "only showing top 20 rows\n",
            "\n"
          ]
        }
      ]
    },
    {
      "cell_type": "code",
      "source": [
        "from pyspark.sql.functions import year\n",
        "\n",
        "df_not_null.select(year(col('data_transacao'))).show()"
      ],
      "metadata": {
        "colab": {
          "base_uri": "https://localhost:8080/"
        },
        "id": "wFbMwDXuT6I3",
        "outputId": "1651be32-acf8-4d75-dca8-95aa0aef4e98"
      },
      "execution_count": 96,
      "outputs": [
        {
          "output_type": "stream",
          "name": "stdout",
          "text": [
            "+--------------------+\n",
            "|year(data_transacao)|\n",
            "+--------------------+\n",
            "|                2022|\n",
            "|                2022|\n",
            "|                2022|\n",
            "|                2022|\n",
            "|                2022|\n",
            "|                2022|\n",
            "|                2021|\n",
            "|                2021|\n",
            "|                2021|\n",
            "|                2022|\n",
            "|                2022|\n",
            "|                2022|\n",
            "|                2021|\n",
            "|                2021|\n",
            "|                2022|\n",
            "|                2021|\n",
            "|                2022|\n",
            "|                2022|\n",
            "|                2022|\n",
            "|                2021|\n",
            "+--------------------+\n",
            "only showing top 20 rows\n",
            "\n"
          ]
        }
      ]
    },
    {
      "cell_type": "code",
      "source": [
        "df_2022 = df_not_null.filter(year(col('data_transacao')) == '2022')\n",
        "df_2022.show()"
      ],
      "metadata": {
        "colab": {
          "base_uri": "https://localhost:8080/"
        },
        "id": "labJxlGzThMJ",
        "outputId": "159de8ae-0d07-4748-b6fc-13c9592f6d97"
      },
      "execution_count": 99,
      "outputs": [
        {
          "output_type": "stream",
          "name": "stdout",
          "text": [
            "+---+--------+--------------------+--------------------+--------------------+--------------------+---------------------+---------------------+--------------+---------------+-------------------+\n",
            "| id|   valor| parte_debitada_nome|parte_debitada_conta|parte_debitada_banco|parte_creditada_nome|parte_creditada_conta|parte_creditada_banco|chave_pix_tipo|chave_pix_valor|     data_transacao|\n",
            "+---+--------+--------------------+--------------------+--------------------+--------------------+---------------------+---------------------+--------------+---------------+-------------------+\n",
            "|  1|    9.93|Dra. Ana Carolina...|            79470453|              Nubank|       Maysa da Cruz|             67162333|                 Itau|           cpf|     8439752610|2022-02-18 13:28:00|\n",
            "|  2|   15.38|        Ana Caldeira|            19689668|                Itau|        Evelyn Sales|             60005091|             Bradesco|           cpf|    27145380617|2022-04-08 01:47:00|\n",
            "|  3|   57.58|    Arthur Goncalves|            18856899|            Bradesco|          Maria Melo|             13496303|                  BTG|           cpf|    16452937006|2022-07-14 03:18:00|\n",
            "|  4|53705.13|  Ana Julia Caldeira|            22834741|                Itau|   Ana Livia Almeida|             44695116|               Nubank|           cpf|    26590384142|2022-01-15 18:06:00|\n",
            "|  5|25299.69|  Srta. Nicole Pinto|             3715882|              Nubank|Srta. Ana Laura d...|             21409465|               Nubank|           cpf|    73486105280|2022-05-13 11:04:00|\n",
            "|  6| 7165.06|   Gabriela Ferreira|             2243037|              Nubank|       Larissa Souza|             10689552|                 Itau|           cpf|    96845371237|2022-09-11 13:38:00|\n",
            "| 10|   42.88|     Mirella Martins|            29535709|            Bradesco|        Danilo Lopes|             60064650|                 Itau|           cpf|    87014935232|2022-09-21 17:19:00|\n",
            "| 11|33629.97|Sr. Vitor Gabriel...|            67010663|                 BTG|Sra. Lavinia Cald...|             48145941|               Nubank|           cpf|    63542098124|2022-09-12 00:29:00|\n",
            "| 12| 4374.56|      Nathan Peixoto|            22975623|              Nubank|        Diogo da Luz|             30302218|             Bradesco|           cpf|    72908154323|2022-08-07 17:01:00|\n",
            "| 15|  815.53|     Ana Laura Souza|            79650252|                Itau|        Isabel Costa|             28762988|                  BTG|           cpf|    51824039689|2022-02-21 11:25:00|\n",
            "| 17|    0.54|        Otavio Cunha|            85583961|            Bradesco|       Elisa Moreira|             97003354|             Bradesco|           cpf|    15248769094|2022-02-16 10:16:00|\n",
            "| 18|49836.72|Ana Carolina Oliv...|            80200942|                Itau|    Stella Fernandes|             31579145|                  BTG|           cpf|    47609381250|2022-07-18 22:46:00|\n",
            "| 19|    9.68|        Levi Martins|            12349481|                Itau|Joao Guilherme Me...|             31102492|                  BTG|       celular|    11916824404|2022-02-26 15:05:00|\n",
            "| 22|   22.43|       Fernanda Melo|             3317895|              Nubank| Luiz Otavio Ribeiro|             97680466|                  BTG|       celular|    84972507365|2022-08-04 00:48:00|\n",
            "| 25|   28.66|     Leandro Freitas|            91133554|                Itau|   Valentina Pereira|              6414456|                  BTG|       celular|    71979984146|2022-08-24 15:39:00|\n",
            "| 26|  154.98|         Luiza Pires|            69839296|            Bradesco|         Pietra Melo|             42851788|                 Itau|       celular|    71908616462|2022-01-28 16:51:00|\n",
            "| 29|  890.47|Sr. Luiz Felipe S...|            20051189|            Bradesco|Enzo Gabriel Cardoso|             17302910|               Nubank|       celular|    31920761665|2022-11-19 19:25:00|\n",
            "| 31|20875.64|Dr. Joao Gabriel ...|            51847615|                 BTG|        Ana Caldeira|             69556895|             Bradesco|       celular|    84993893778|2022-04-29 10:17:00|\n",
            "| 33|    1.58|Dra. Ana Vitoria ...|             7482168|                 BTG|       Alexia Farias|             53857589|                  BTG|       celular|    81992580873|2022-07-03 23:37:00|\n",
            "| 35| 7944.02|     Clara das Neves|            74962702|                 BTG|       Stella Santos|             70949900|               Nubank|       celular|    41953574945|2022-02-02 14:41:00|\n",
            "+---+--------+--------------------+--------------------+--------------------+--------------------+---------------------+---------------------+--------------+---------------+-------------------+\n",
            "only showing top 20 rows\n",
            "\n"
          ]
        }
      ]
    },
    {
      "cell_type": "code",
      "source": [
        "df_2022.withColumn('year', year(col('data_transacao'))).groupBy('year').count().show()"
      ],
      "metadata": {
        "colab": {
          "base_uri": "https://localhost:8080/"
        },
        "id": "WkuZ8ZbZUdUI",
        "outputId": "c4bd5c26-bec2-4709-8a06-2b1496f5d260"
      },
      "execution_count": 106,
      "outputs": [
        {
          "output_type": "stream",
          "name": "stdout",
          "text": [
            "+----+-----+\n",
            "|year|count|\n",
            "+----+-----+\n",
            "|2022|   48|\n",
            "+----+-----+\n",
            "\n"
          ]
        }
      ]
    },
    {
      "cell_type": "markdown",
      "source": [
        "## Escrita de dados"
      ],
      "metadata": {
        "id": "K8yxd1nCU_yb"
      }
    },
    {
      "cell_type": "markdown",
      "source": [
        "### Write"
      ],
      "metadata": {
        "id": "Z2sNrCrWVe_L"
      }
    },
    {
      "cell_type": "code",
      "source": [
        "df_2022.write.csv('output/base_2022.csv')"
      ],
      "metadata": {
        "id": "UmUKjTLjU9pR"
      },
      "execution_count": 108,
      "outputs": []
    },
    {
      "cell_type": "markdown",
      "source": [
        "### Parquet"
      ],
      "metadata": {
        "id": "YEgVS5GMVg0l"
      }
    },
    {
      "cell_type": "code",
      "source": [
        "# é o mais usado no quesito de escrita de dados\n",
        "df_2022.write.parquet('output/parquet/base')"
      ],
      "metadata": {
        "id": "ptyowNl3VbsC"
      },
      "execution_count": 109,
      "outputs": []
    }
  ]
}